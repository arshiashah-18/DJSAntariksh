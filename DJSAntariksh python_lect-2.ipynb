{
 "cells": [
  {
   "cell_type": "code",
   "execution_count": 14,
   "metadata": {},
   "outputs": [
    {
     "data": {
      "text/plain": [
       "[0, 1, 1, 2, 3, 5, 8, 13, 21, 34, 55, 89, 144]"
      ]
     },
     "execution_count": 14,
     "metadata": {},
     "output_type": "execute_result"
    }
   ],
   "source": [
    "#FUNCTIONS \n",
    "\n",
    "# fibonacci\n",
    "\n",
    "def fib(n):\n",
    "    seq = [0, 1]\n",
    "\n",
    "    for i in range(n):\n",
    "        num = seq[-1] + seq[-2]\n",
    "        seq.append(num) \n",
    "\n",
    "    return seq\n",
    "\n",
    "fib(11)\n",
    "\n"
   ]
  },
  {
   "cell_type": "code",
   "execution_count": 15,
   "metadata": {},
   "outputs": [
    {
     "name": "stdout",
     "output_type": "stream",
     "text": [
      "5040\n"
     ]
    }
   ],
   "source": [
    "# Factorial\n",
    "\n",
    "def factorial(n):\n",
    "    if n == 0:\n",
    "        return 1\n",
    "    else:\n",
    "        return n * factorial(n - 1)\n",
    "\n",
    "print(factorial(7)) "
   ]
  },
  {
   "cell_type": "code",
   "execution_count": 16,
   "metadata": {},
   "outputs": [
    {
     "name": "stdout",
     "output_type": "stream",
     "text": [
      "5.0\n",
      "Error: Division by zero!\n",
      "None\n"
     ]
    }
   ],
   "source": [
    "# Exception function\n",
    "\n",
    "def divide_numbers(a, b):\n",
    "    try:\n",
    "        result = a / b\n",
    "    except ZeroDivisionError:\n",
    "        print(\"Error: Division by zero!\")\n",
    "    else:\n",
    "        return result\n",
    "\n",
    "print(divide_numbers(10, 2))   \n",
    "print(divide_numbers(8, 0))     \n"
   ]
  },
  {
   "cell_type": "code",
   "execution_count": 19,
   "metadata": {},
   "outputs": [
    {
     "name": "stdout",
     "output_type": "stream",
     "text": [
      "9\n",
      "14\n"
     ]
    }
   ],
   "source": [
    "# Nested functions\n",
    "def outer_function(x):\n",
    "    def inner_function(y):\n",
    "        return x + y\n",
    "    return inner_function\n",
    "\n",
    "add_five = outer_function(5)\n",
    "print(add_five(4))  \n",
    "print(add_five(9))  "
   ]
  },
  {
   "cell_type": "code",
   "execution_count": 59,
   "metadata": {},
   "outputs": [
    {
     "name": "stdout",
     "output_type": "stream",
     "text": [
      "[1, 2, 3, 4, 5, 6]\n"
     ]
    }
   ],
   "source": [
    "# Write a function to merge two sorted lists into a single sorted list.\n",
    "\n",
    "def merge_sorted_lists(list1, list2):\n",
    "    merged_list = []\n",
    "    i = j = 0\n",
    "    while i < len(list1) and j < len(list2):\n",
    "        if list1[i] < list2[j]:\n",
    "            merged_list.append(list1[i])\n",
    "            i += 1\n",
    "        else:\n",
    "            merged_list.append(list2[j])\n",
    "            j += 1\n",
    "    merged_list.extend(list1[i:])\n",
    "    merged_list.extend(list2[j:])\n",
    "    return merged_list\n",
    "\n",
    "print(merge_sorted_lists([1, 3, 5], [2, 4, 6]))\n",
    "\n"
   ]
  },
  {
   "cell_type": "code",
   "execution_count": 58,
   "metadata": {},
   "outputs": [
    {
     "name": "stdout",
     "output_type": "stream",
     "text": [
      "20\n"
     ]
    }
   ],
   "source": [
    "# CONSTRUCTORS \n",
    "\n",
    "# Define a class Rectangle with a constructor that initializes the width and height of the rectangle, and a method to calculate its area.\n",
    "\n",
    "class Rectangle:\n",
    " def __init__(self, width, height):\n",
    "  self.width = width\n",
    "  self.height = height\n",
    " def area(self):\n",
    "  return self.width * self.height\n",
    "rect = Rectangle(4, 5)\n",
    "print(rect.area())"
   ]
  },
  {
   "cell_type": "code",
   "execution_count": 57,
   "metadata": {},
   "outputs": [
    {
     "name": "stdout",
     "output_type": "stream",
     "text": [
      "Hello, my name is Arshia and I am 18 years old.\n"
     ]
    }
   ],
   "source": [
    "# Define a class Person with a constructor that initializes the name and age of a person, and a method to greet.\n",
    "\n",
    "class Person:\n",
    " def __init__(self, name, age):\n",
    "  self.name = name\n",
    "  self.age = age\n",
    " def greet(self):\n",
    "  return f\"Hello, my name is {self.name} and I am {self.age} years old.\";\n",
    "person = Person(\"Arshia\", 18)\n",
    "print(person.greet())"
   ]
  },
  {
   "cell_type": "code",
   "execution_count": 56,
   "metadata": {},
   "outputs": [
    {
     "name": "stdout",
     "output_type": "stream",
     "text": [
      "1200\n"
     ]
    }
   ],
   "source": [
    "#  Define a class BankAccount with a constructor that initializes the account number and balance (default is 0). Add methods to deposit and withdraw money from the account.\n",
    "\n",
    "class BankAccount:\n",
    " def __init__(self, account_number, balance=0):\n",
    "  self.account_number = account_number\n",
    "  self.balance = balance\n",
    " def deposit(self, amount):\n",
    "  self.balance += amount\n",
    " def withdraw(self, amount):\n",
    "  if amount <= self.balance:\n",
    "   self.balance -= amount\n",
    "  else:\n",
    "   print(\"Insufficient funds \")\n",
    "account = BankAccount(\"12345\", 1000)\n",
    "account.deposit(500)\n",
    "account.withdraw(300)\n",
    "print(account.balance)"
   ]
  },
  {
   "cell_type": "code",
   "execution_count": 55,
   "metadata": {},
   "outputs": [
    {
     "name": "stdout",
     "output_type": "stream",
     "text": [
      "85.75\n"
     ]
    }
   ],
   "source": [
    "# Define a class Student with a constructor that initializes the name and grades of the student, and a method to calculate the average grade.\n",
    "\n",
    "class Student:\n",
    " def __init__(self, name, grades):\n",
    "  self.name = name\n",
    "  self.grades = grades\n",
    " def average_grade(self):\n",
    "  return sum(self.grades) / len(self.grades)\n",
    "student = Student(\"Arshia\", [90, 80, 85, 88])\n",
    "print(student.average_grade())"
   ]
  },
  {
   "cell_type": "code",
   "execution_count": 54,
   "metadata": {},
   "outputs": [
    {
     "name": "stdout",
     "output_type": "stream",
     "text": [
      "2020 Toyota Camry\n"
     ]
    }
   ],
   "source": [
    "# Define a class Car with a constructor that initializes the make, model, and year of the car, and a method to display this information.\n",
    "\n",
    "class Car:\n",
    "    def __init__(self, make, model, year):\n",
    "        self.make = make\n",
    "        self.model = model\n",
    "        self.year = year\n",
    "\n",
    "    def display_info(self):\n",
    "        return f\"{self.year} {self.make} {self.model}\"\n",
    "\n",
    "car = Car(\"Toyota\", \"Camry\", 2020)\n",
    "print(car.display_info())\n",
    "\n"
   ]
  },
  {
   "cell_type": "code",
   "execution_count": 2,
   "metadata": {},
   "outputs": [
    {
     "name": "stdout",
     "output_type": "stream",
     "text": [
      "Hello\n"
     ]
    }
   ],
   "source": [
    "# DECORATORS\n",
    "\n",
    "# conversion of the result of a function to uppercase.\n",
    "\n",
    "def uppercase_decorator(func):\n",
    " def wrapper():\n",
    "  result = func()\n",
    "  return result.upper()\n",
    " return wrapper\n",
    "\n",
    "def greet():\n",
    " return \"Hello\"\n",
    "print(greet())"
   ]
  },
  {
   "cell_type": "code",
   "execution_count": 13,
   "metadata": {},
   "outputs": [
    {
     "name": "stdout",
     "output_type": "stream",
     "text": [
      "Access granted to arshia. Data: Protected data\n"
     ]
    }
   ],
   "source": [
    "# login\n",
    "\n",
    "logged_in_users = ['arshia', 'shah']\n",
    "\n",
    "def login_required(func):\n",
    "    def wrapper(username, *args, **kwargs):\n",
    "        if username in logged_in_users:\n",
    "            return func(username, *args, **kwargs)\n",
    "        else:\n",
    "            raise PermissionError(\"User not logged in\")\n",
    "    return wrapper\n",
    "\n",
    "@login_required\n",
    "def secure_function(username, data):\n",
    "    return f\"Access granted to {username}. Data: {data}\"\n",
    "\n",
    "print(secure_function('arshia', 'Protected data'))  \n"
   ]
  },
  {
   "cell_type": "code",
   "execution_count": 6,
   "metadata": {},
   "outputs": [
    {
     "name": "stdout",
     "output_type": "stream",
     "text": [
      "3628800\n",
      "Total time taken in :  factorial 2.0061445236206055\n"
     ]
    }
   ],
   "source": [
    "# Decorator that measures the execution time of a function.\n",
    "\n",
    "import time\n",
    "import math\n",
    "\n",
    "def calculate_time(func): \n",
    "    def inner1(*args, **kwargs):\n",
    "        begin = time.time()\n",
    "        func(*args, **kwargs)\n",
    "        end = time.time()\n",
    "        print(\"Total time taken in : \", func.__name__, end - begin)\n",
    "\n",
    "    return inner1\n",
    "@calculate_time\n",
    "def factorial(num):\n",
    "    time.sleep(2)\n",
    "    print(math.factorial(num))\n",
    "factorial(10)\n"
   ]
  },
  {
   "cell_type": "code",
   "execution_count": 7,
   "metadata": {},
   "outputs": [
    {
     "name": "stdout",
     "output_type": "stream",
     "text": [
      "Hello!\n",
      "Hello!\n",
      "Hello!\n"
     ]
    }
   ],
   "source": [
    "# Repetition of decorators\n",
    "\n",
    "def repeat_decorator(times):\n",
    "    def decorator(func):\n",
    "        def wrapper(*args, **kwargs):\n",
    "            result = None\n",
    "            for _ in range(times):\n",
    "                result = func(*args, **kwargs)\n",
    "            return result\n",
    "        return wrapper\n",
    "    return decorator\n",
    "\n",
    "@repeat_decorator(3)\n",
    "def say_hello():\n",
    "    print(\"Hello!\")\n",
    "\n",
    "say_hello()\n",
    "\n"
   ]
  },
  {
   "cell_type": "code",
   "execution_count": 9,
   "metadata": {},
   "outputs": [
    {
     "name": "stdout",
     "output_type": "stream",
     "text": [
      "***************\n",
      "%%%%%%%%%%%%%%%\n",
      "Hello\n",
      "%%%%%%%%%%%%%%%\n",
      "***************\n"
     ]
    }
   ],
   "source": [
    "# Patterns \n",
    "\n",
    "def star(func):\n",
    "    def inner(*args, **kwargs):\n",
    "        print(\"*\" * 15)\n",
    "        func(*args, **kwargs)\n",
    "        print(\"*\" * 15)\n",
    "    return inner\n",
    "\n",
    "\n",
    "def percent(func):\n",
    "    def inner(*args, **kwargs):\n",
    "        print(\"%\" * 15)\n",
    "        func(*args, **kwargs)\n",
    "        print(\"%\" * 15)\n",
    "    return inner\n",
    "\n",
    "\n",
    "@star\n",
    "@percent\n",
    "def printer(msg):\n",
    "    print(msg)\n",
    "\n",
    "printer(\"Hello\")\n",
    "\n",
    "\n"
   ]
  },
  {
   "cell_type": "code",
   "execution_count": 21,
   "metadata": {},
   "outputs": [
    {
     "name": "stdout",
     "output_type": "stream",
     "text": [
      "name: Arshia, age: 18\n",
      "college: DJSCE, id: 1233\n"
     ]
    }
   ],
   "source": [
    "# OOP\n",
    "\n",
    "# animal-dog\n",
    "\n",
    "class Person:\n",
    "    def __init__(self, name, age):\n",
    "        self.name = name\n",
    "        self.age = age\n",
    "    \n",
    "    def display(self):\n",
    "        print(f'name: {self.name}, age: {self.age}')\n",
    "\n",
    "class Student(Person):\n",
    "    def __init__(self, name, age, college, id):\n",
    "        super().__init__(name, age)\n",
    "        self.college = college\n",
    "        self.id = id\n",
    "\n",
    "    def display(self):\n",
    "        super().display()\n",
    "        print(f'college: {self.college}, id: {self.id}')\n",
    "student1 = Student('Arshia', 18, 'DJSCE', '1233')\n",
    "student1.display()\n",
    "\n",
    "\n"
   ]
  },
  {
   "cell_type": "code",
   "execution_count": 36,
   "metadata": {},
   "outputs": [
    {
     "name": "stdout",
     "output_type": "stream",
     "text": [
      "78.5\n"
     ]
    }
   ],
   "source": [
    "# shape-area\n",
    "\n",
    "class Shape:\n",
    "    def area(self):\n",
    "        pass\n",
    "\n",
    "class Circle(Shape):\n",
    "    def __init__(self, radius):\n",
    "        self.radius = radius\n",
    "\n",
    "    def area(self):\n",
    "        return 3.14 * self.radius ** 2\n",
    "\n",
    "circle = Circle(5)\n",
    "print(circle.area())\n"
   ]
  },
  {
   "cell_type": "code",
   "execution_count": 38,
   "metadata": {},
   "outputs": [
    {
     "name": "stdout",
     "output_type": "stream",
     "text": [
      "Name: Ash, Salary: 80000, Department: HR\n"
     ]
    }
   ],
   "source": [
    "# employee-manager\n",
    "class Employee:\n",
    "    def __init__(self, name, salary):\n",
    "        self.name = name\n",
    "        self.salary = salary\n",
    "\n",
    "    def display_employee(self):\n",
    "        return f\"Name: {self.name}, Salary: {self.salary}\"\n",
    "\n",
    "class Manager(Employee):\n",
    "    def __init__(self, name, salary, department):\n",
    "        super().__init__(name, salary)\n",
    "        self.department = department\n",
    "\n",
    "    def display_employee(self):\n",
    "        return f\"Name: {self.name}, Salary: {self.salary}, Department: {self.department}\"\n",
    "\n",
    "manager = Manager(\"Ash\", 80000, \"HR\")\n",
    "print(manager.display_employee())\n",
    "\n"
   ]
  },
  {
   "cell_type": "code",
   "execution_count": 41,
   "metadata": {},
   "outputs": [
    {
     "name": "stdout",
     "output_type": "stream",
     "text": [
      "1500\n",
      "1300\n"
     ]
    }
   ],
   "source": [
    "# bank account\n",
    "class BankAccount:\n",
    "    def __init__(self, owner, balance=0):\n",
    "        self.owner = owner\n",
    "        self.balance = balance\n",
    "\n",
    "    def deposit(self, amount):\n",
    "        self.balance += amount\n",
    "\n",
    "    def withdraw(self, amount):\n",
    "        if amount > self.balance:\n",
    "            return \"Insufficient funds\"\n",
    "        else:\n",
    "            self.balance -= amount\n",
    "\n",
    "account = BankAccount(\"John Doe\", 1000)\n",
    "account.deposit(500)\n",
    "print(account.balance)\n",
    "account.withdraw(200)\n",
    "print(account.balance)\n"
   ]
  },
  {
   "cell_type": "code",
   "execution_count": 22,
   "metadata": {},
   "outputs": [
    {
     "name": "stdout",
     "output_type": "stream",
     "text": [
      "['The Great Gatsby', '1984']\n"
     ]
    }
   ],
   "source": [
    "# Library\n",
    "\n",
    "class Library:\n",
    "    def __init__(self):\n",
    "        self.books = []\n",
    "\n",
    "    def add_book(self, book):\n",
    "        self.books.append(book)\n",
    "\n",
    "    def list_books(self):\n",
    "        return self.books\n",
    "\n",
    "library = Library()\n",
    "library.add_book(\"The Great Gatsby\")\n",
    "library.add_book(\"1984\")\n",
    "print(library.list_books())\n"
   ]
  },
  {
   "cell_type": "code",
   "execution_count": 29,
   "metadata": {},
   "outputs": [
    {
     "name": "stdout",
     "output_type": "stream",
     "text": [
      "13\n"
     ]
    }
   ],
   "source": [
    "# Lambda Function\n",
    "\n",
    "#  Addition\n",
    "\n",
    "addition = lambda x, y: x + y\n",
    "print(addition(4, 9))\n"
   ]
  },
  {
   "cell_type": "code",
   "execution_count": 28,
   "metadata": {},
   "outputs": [
    {
     "name": "stdout",
     "output_type": "stream",
     "text": [
      "[1, 4, 9, 16, 25]\n"
     ]
    }
   ],
   "source": [
    "# square\n",
    "\n",
    "numbers = [1, 2, 3, 4, 5]\n",
    "squared_numbers = list(map(lambda x: x ** 2, numbers))\n",
    "print(squared_numbers)  \n"
   ]
  },
  {
   "cell_type": "code",
   "execution_count": 24,
   "metadata": {},
   "outputs": [
    {
     "name": "stdout",
     "output_type": "stream",
     "text": [
      "[2, 4, 6, 8, 10]\n"
     ]
    }
   ],
   "source": [
    "# Filter\n",
    "\n",
    "numbers = [1, 2, 3, 4, 5, 6, 7, 8, 9, 10]\n",
    "even_numbers = list(filter(lambda x: x % 2 == 0, numbers))\n",
    "print(even_numbers)\n",
    "\n"
   ]
  },
  {
   "cell_type": "code",
   "execution_count": 23,
   "metadata": {},
   "outputs": [
    {
     "name": "stdout",
     "output_type": "stream",
     "text": [
      "{'apple': 1, 'banana': 2, 'cherry': 3}\n"
     ]
    }
   ],
   "source": [
    "#  list of tuples into a dictionary \n",
    "\n",
    "products = [(1, 'apple'), (2, 'banana'), (3, 'cherry')]\n",
    "products_dict = dict(map(lambda x: (x[1], x[0]), products))\n",
    "print(products_dict)\n"
   ]
  },
  {
   "cell_type": "code",
   "execution_count": 25,
   "metadata": {},
   "outputs": [
    {
     "name": "stdout",
     "output_type": "stream",
     "text": [
      "120\n"
     ]
    }
   ],
   "source": [
    "# product \n",
    "\n",
    "from functools import reduce\n",
    "numbers = [1, 2, 3, 4, 5]\n",
    "product = reduce(lambda x, y: x * y, numbers)\n",
    "print(product)\n",
    "\n"
   ]
  },
  {
   "cell_type": "code",
   "execution_count": 64,
   "metadata": {},
   "outputs": [
    {
     "name": "stdout",
     "output_type": "stream",
     "text": [
      "[(7, 1), (3, 2), (1, 5), (4, 8)]\n"
     ]
    }
   ],
   "source": [
    "# IN-LINE FUNCTIONS\n",
    "\n",
    "# Sorting a list of tuples by a specific element\n",
    "\n",
    "data = [(1, 5), (3, 2), (7, 1), (4, 8)]\n",
    "sorted_data = sorted(data, key=lambda x: x[1])\n",
    "print(sorted_data)\n"
   ]
  },
  {
   "cell_type": "code",
   "execution_count": 30,
   "metadata": {},
   "outputs": [
    {
     "name": "stdout",
     "output_type": "stream",
     "text": [
      "[7, 10, 8]\n"
     ]
    }
   ],
   "source": [
    "# Filtering \n",
    "\n",
    "numbers = [1, 5, 2, 7, 4, 10, 8]\n",
    "threshold = 5\n",
    "filtered_numbers = list(filter(lambda x: x > threshold, numbers))\n",
    "print(filtered_numbers)\n"
   ]
  },
  {
   "cell_type": "code",
   "execution_count": 31,
   "metadata": {},
   "outputs": [
    {
     "name": "stdout",
     "output_type": "stream",
     "text": [
      "[1, 4, 9, 16, 25]\n"
     ]
    }
   ],
   "source": [
    "# Transformation\n",
    "\n",
    "numbers = [1, 2, 3, 4, 5]\n",
    "squared_numbers = list(map(lambda x: x**2, numbers))\n",
    "print(squared_numbers)"
   ]
  },
  {
   "cell_type": "code",
   "execution_count": 68,
   "metadata": {},
   "outputs": [
    {
     "name": "stdout",
     "output_type": "stream",
     "text": [
      "{'a': [('a', 1), ('a', 3)], 'b': [('b', 2), ('b', 4)]}\n"
     ]
    }
   ],
   "source": [
    "# Grouping elements from a list based on a key\n",
    "\n",
    "from itertools import groupby\n",
    "\n",
    "data = [('a', 1), ('b', 2), ('a', 3), ('b', 4)]\n",
    "data.sort(key=lambda x: x[0])  # Sorting by the first element of each tuple\n",
    "grouped_data = {key: list(group) for key, group in groupby(data, lambda x: x[0])}\n",
    "print(grouped_data)"
   ]
  }
 ],
 "metadata": {
  "kernelspec": {
   "display_name": "Python 3",
   "language": "python",
   "name": "python3"
  },
  "language_info": {
   "codemirror_mode": {
    "name": "ipython",
    "version": 3
   },
   "file_extension": ".py",
   "mimetype": "text/x-python",
   "name": "python",
   "nbconvert_exporter": "python",
   "pygments_lexer": "ipython3",
   "version": "3.12.4"
  }
 },
 "nbformat": 4,
 "nbformat_minor": 2
}
