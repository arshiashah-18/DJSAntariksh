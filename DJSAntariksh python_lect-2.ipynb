{
 "cells": [
  {
   "cell_type": "code",
   "execution_count": 63,
   "metadata": {},
   "outputs": [],
   "source": [
    "#FUNCTIONS \n",
    "\n",
    "# Write a memoized version of the Fibonacci function to improve its performance.\n",
    "\n",
    "\n",
    "\n",
    "def memoize(f):\n",
    " cache = {}\n",
    "\n",
    "def decorated_function(*args):\n",
    " if args in cache:\n",
    "  return cache[args]\n",
    " result = f(*args)\n",
    " cache[args] = result\n",
    " return result\n",
    "\n",
    " return decorated_function\n",
    "\n",
    "@memoize\n",
    "def fibonacci(n):\n",
    " if n <= 1:\n",
    "  return n\n",
    " return fibonacci(n-1) + fibonacci(n-2)\n",
    "\n",
    " print(fibonacci(10))"
   ]
  },
  {
   "cell_type": "code",
   "execution_count": 62,
   "metadata": {},
   "outputs": [
    {
     "name": "stdout",
     "output_type": "stream",
     "text": [
      "26\n"
     ]
    }
   ],
   "source": [
    "# Write a function compose that takes two functions f and g and returns a new function that is the composition of f and g.\n",
    "\n",
    "def compose(f, g):\n",
    " return lambda x: f(g(x))\n",
    "def add_one(x):\n",
    " return x + 1\n",
    "\n",
    "def square(x):\n",
    " return x * x\n",
    "composed_function = compose(add_one, square)\n",
    "print(composed_function(5)) \n"
   ]
  },
  {
   "cell_type": "code",
   "execution_count": 61,
   "metadata": {},
   "outputs": [
    {
     "name": "stdout",
     "output_type": "stream",
     "text": [
      "10\n"
     ]
    }
   ],
   "source": [
    "# Implement a currying function that converts a two-argument function into a curried function.\n",
    "\n",
    "\n",
    "def curry(f):\n",
    " def curried_function(x):\n",
    "  return lambda y: f(x, y)\n",
    " return curried_function\n",
    "def multiply(x, y):\n",
    " return x * y\n",
    "curried_multiply = curry(multiply)\n",
    "double = curried_multiply(2)\n",
    "print(double(5)) "
   ]
  },
  {
   "cell_type": "code",
   "execution_count": 60,
   "metadata": {},
   "outputs": [
    {
     "name": "stdout",
     "output_type": "stream",
     "text": [
      "[2, 3, 4, 5, 6]\n"
     ]
    }
   ],
   "source": [
    "# Implement a custom map function that takes a function and an iterable, applying the function to each element of the iterable.\n",
    "\n",
    "def map_custom(func, iterable):\n",
    " return [func(item) for item in iterable]\n",
    "def increment(x):\n",
    " return x + 1\n",
    "numbers = [1, 2, 3, 4, 5]\n",
    "print(map_custom(increment, numbers)) # [2, 3, 4, 5, 6]"
   ]
  },
  {
   "cell_type": "code",
   "execution_count": 59,
   "metadata": {},
   "outputs": [
    {
     "name": "stdout",
     "output_type": "stream",
     "text": [
      "[1, 2, 3, 4, 5, 6]\n"
     ]
    }
   ],
   "source": [
    "# Write a function to merge two sorted lists into a single sorted list.\n",
    "\n",
    "def merge_sorted_lists(list1, list2):\n",
    "    merged_list = []\n",
    "    i = j = 0\n",
    "    while i < len(list1) and j < len(list2):\n",
    "        if list1[i] < list2[j]:\n",
    "            merged_list.append(list1[i])\n",
    "            i += 1\n",
    "        else:\n",
    "            merged_list.append(list2[j])\n",
    "            j += 1\n",
    "    merged_list.extend(list1[i:])\n",
    "    merged_list.extend(list2[j:])\n",
    "    return merged_list\n",
    "\n",
    "print(merge_sorted_lists([1, 3, 5], [2, 4, 6]))\n",
    "\n"
   ]
  },
  {
   "cell_type": "code",
   "execution_count": 58,
   "metadata": {},
   "outputs": [
    {
     "name": "stdout",
     "output_type": "stream",
     "text": [
      "20\n"
     ]
    }
   ],
   "source": [
    "# CONSTRUCTORS \n",
    "\n",
    "# Define a class Rectangle with a constructor that initializes the width and height of the rectangle, and a method to calculate its area.\n",
    "\n",
    "class Rectangle:\n",
    " def __init__(self, width, height):\n",
    "  self.width = width\n",
    "  self.height = height\n",
    " def area(self):\n",
    "  return self.width * self.height\n",
    "rect = Rectangle(4, 5)\n",
    "print(rect.area())"
   ]
  },
  {
   "cell_type": "code",
   "execution_count": 57,
   "metadata": {},
   "outputs": [
    {
     "name": "stdout",
     "output_type": "stream",
     "text": [
      "Hello, my name is Arshia and I am 18 years old.\n"
     ]
    }
   ],
   "source": [
    "# Define a class Person with a constructor that initializes the name and age of a person, and a method to greet.\n",
    "\n",
    "class Person:\n",
    " def __init__(self, name, age):\n",
    "  self.name = name\n",
    "  self.age = age\n",
    " def greet(self):\n",
    "  return f\"Hello, my name is {self.name} and I am {self.age} years old.\";\n",
    "person = Person(\"Arshia\", 18)\n",
    "print(person.greet())"
   ]
  },
  {
   "cell_type": "code",
   "execution_count": 56,
   "metadata": {},
   "outputs": [
    {
     "name": "stdout",
     "output_type": "stream",
     "text": [
      "1200\n"
     ]
    }
   ],
   "source": [
    "#  Define a class BankAccount with a constructor that initializes the account number and balance (default is 0). Add methods to deposit and withdraw money from the account.\n",
    "\n",
    "class BankAccount:\n",
    " def __init__(self, account_number, balance=0):\n",
    "  self.account_number = account_number\n",
    "  self.balance = balance\n",
    " def deposit(self, amount):\n",
    "  self.balance += amount\n",
    " def withdraw(self, amount):\n",
    "  if amount <= self.balance:\n",
    "   self.balance -= amount\n",
    "  else:\n",
    "   print(\"Insufficient funds \")\n",
    "account = BankAccount(\"12345\", 1000)\n",
    "account.deposit(500)\n",
    "account.withdraw(300)\n",
    "print(account.balance)"
   ]
  },
  {
   "cell_type": "code",
   "execution_count": 55,
   "metadata": {},
   "outputs": [
    {
     "name": "stdout",
     "output_type": "stream",
     "text": [
      "85.75\n"
     ]
    }
   ],
   "source": [
    "# Define a class Student with a constructor that initializes the name and grades of the student, and a method to calculate the average grade.\n",
    "\n",
    "class Student:\n",
    " def __init__(self, name, grades):\n",
    "  self.name = name\n",
    "  self.grades = grades\n",
    " def average_grade(self):\n",
    "  return sum(self.grades) / len(self.grades)\n",
    "student = Student(\"Arshia\", [90, 80, 85, 88])\n",
    "print(student.average_grade())"
   ]
  },
  {
   "cell_type": "code",
   "execution_count": 54,
   "metadata": {},
   "outputs": [
    {
     "name": "stdout",
     "output_type": "stream",
     "text": [
      "2020 Toyota Camry\n"
     ]
    }
   ],
   "source": [
    "# Define a class Car with a constructor that initializes the make, model, and year of the car, and a method to display this information.\n",
    "\n",
    "class Car:\n",
    "    def __init__(self, make, model, year):\n",
    "        self.make = make\n",
    "        self.model = model\n",
    "        self.year = year\n",
    "\n",
    "    def display_info(self):\n",
    "        return f\"{self.year} {self.make} {self.model}\"\n",
    "\n",
    "car = Car(\"Toyota\", \"Camry\", 2020)\n",
    "print(car.display_info())\n",
    "\n"
   ]
  },
  {
   "cell_type": "code",
   "execution_count": 30,
   "metadata": {},
   "outputs": [
    {
     "name": "stdout",
     "output_type": "stream",
     "text": [
      "HELLO\n"
     ]
    }
   ],
   "source": [
    "# DECORATORS\n",
    "\n",
    "# Write a decorator that converts the result of a function to uppercase.\n",
    "\n",
    "def uppercase_decorator(func):\n",
    " def wrapper():\n",
    "  result = func()\n",
    "  return result.upper()\n",
    " return wrapper\n",
    "@uppercase_decorator\n",
    "def greet():\n",
    " return \"Hello\"\n",
    "print(greet())"
   ]
  },
  {
   "cell_type": "code",
   "execution_count": 31,
   "metadata": {},
   "outputs": [
    {
     "name": "stdout",
     "output_type": "stream",
     "text": [
      "Calling function 'add' with arguments (3, 4) and {}\n",
      "7\n"
     ]
    }
   ],
   "source": [
    "# Write a decorator that logs the function name and its arguments before calling the function.\n",
    "\n",
    "def logging_decorator(func):\n",
    "    def wrapper(*args, **kwargs):\n",
    "        print(f\"Calling function '{func.__name__}' with arguments {args} and {kwargs}\")\n",
    "        return func(*args, **kwargs)\n",
    "    return wrapper\n",
    "\n",
    "@logging_decorator\n",
    "def add(a, b):\n",
    "    return a + b\n",
    "\n",
    "print(add(3, 4))\n"
   ]
  },
  {
   "cell_type": "code",
   "execution_count": 32,
   "metadata": {},
   "outputs": [
    {
     "name": "stdout",
     "output_type": "stream",
     "text": [
      "Function 'compute_square' took 0.0 seconds to execute\n",
      "25\n"
     ]
    }
   ],
   "source": [
    "# Write a decorator that measures the execution time of a function.\n",
    "\n",
    "def time_decorator(func):\n",
    "    import time\n",
    "    def wrapper(*args, **kwargs):\n",
    "        start_time = time.time()\n",
    "        result = func(*args, **kwargs)\n",
    "        end_time = time.time()\n",
    "        print(f\"Function '{func.__name__}' took {end_time - start_time} seconds to execute\")\n",
    "        return result\n",
    "    return wrapper\n",
    "\n",
    "@time_decorator\n",
    "def compute_square(n):\n",
    "    return n * n\n",
    "\n",
    "print(compute_square(5))\n"
   ]
  },
  {
   "cell_type": "code",
   "execution_count": 33,
   "metadata": {},
   "outputs": [
    {
     "name": "stdout",
     "output_type": "stream",
     "text": [
      "Hello!\n",
      "Hello!\n",
      "Hello!\n"
     ]
    }
   ],
   "source": [
    "# Write a decorator that repeats the execution of a function a specified number of times.\n",
    "\n",
    "def repeat_decorator(times):\n",
    "    def decorator(func):\n",
    "        def wrapper(*args, **kwargs):\n",
    "            result = None\n",
    "            for _ in range(times):\n",
    "                result = func(*args, **kwargs)\n",
    "            return result\n",
    "        return wrapper\n",
    "    return decorator\n",
    "\n",
    "@repeat_decorator(3)\n",
    "def say_hello():\n",
    "    print(\"Hello!\")\n",
    "\n",
    "say_hello()\n",
    "\n"
   ]
  },
  {
   "cell_type": "code",
   "execution_count": 34,
   "metadata": {},
   "outputs": [
    {
     "name": "stdout",
     "output_type": "stream",
     "text": [
      "7\n"
     ]
    }
   ],
   "source": [
    "# Write a decorator that validates that all arguments passed to a function are non-negative.\n",
    "\n",
    "def validate_non_negative(func):\n",
    "    def wrapper(*args, **kwargs):\n",
    "        if any(arg < 0 for arg in args):\n",
    "            raise ValueError(\"Negative values are not allowed\")\n",
    "        return func(*args, **kwargs)\n",
    "    return wrapper\n",
    "\n",
    "@validate_non_negative\n",
    "def add_positive_numbers(a, b):\n",
    "    return a + b\n",
    "\n",
    "print(add_positive_numbers(3, 4))\n",
    "\n",
    "\n"
   ]
  },
  {
   "cell_type": "code",
   "execution_count": 35,
   "metadata": {},
   "outputs": [
    {
     "name": "stdout",
     "output_type": "stream",
     "text": [
      "Woof!\n"
     ]
    }
   ],
   "source": [
    "# OOP\n",
    "\n",
    "# Define a base class Animal and a derived class Dog. The Dog class should override the make_sound method to return \"Woof!\".\n",
    "\n",
    "class Animal:\n",
    "    def __init__(self, name, species):\n",
    "        self.name = name\n",
    "        self.species = species\n",
    "\n",
    "    def make_sound(self):\n",
    "        pass\n",
    "\n",
    "class Dog(Animal):\n",
    "    def __init__(self, name, breed):\n",
    "        super().__init__(name, \"Dog\")\n",
    "        self.breed = breed\n",
    "\n",
    "    def make_sound(self):\n",
    "        return \"Woof!\"\n",
    "\n",
    "dog = Dog(\"Buddy\", \"Golden Retriever\")\n",
    "print(dog.make_sound())\n",
    "\n",
    "\n"
   ]
  },
  {
   "cell_type": "code",
   "execution_count": 36,
   "metadata": {},
   "outputs": [
    {
     "name": "stdout",
     "output_type": "stream",
     "text": [
      "78.5\n"
     ]
    }
   ],
   "source": [
    "# Define a base class Shape with an abstract method area, and a derived class Circle that calculates the area of the circle.\n",
    "\n",
    "class Shape:\n",
    "    def area(self):\n",
    "        pass\n",
    "\n",
    "class Circle(Shape):\n",
    "    def __init__(self, radius):\n",
    "        self.radius = radius\n",
    "\n",
    "    def area(self):\n",
    "        return 3.14 * self.radius ** 2\n",
    "\n",
    "circle = Circle(5)\n",
    "print(circle.area())\n"
   ]
  },
  {
   "cell_type": "code",
   "execution_count": 38,
   "metadata": {},
   "outputs": [
    {
     "name": "stdout",
     "output_type": "stream",
     "text": [
      "Name: Ash, Salary: 80000, Department: HR\n"
     ]
    }
   ],
   "source": [
    "# Define a base class Employee and a derived class Manager that includes the department attribute. Override the display_employee method in the Manager class to include the department.\n",
    "\n",
    "class Employee:\n",
    "    def __init__(self, name, salary):\n",
    "        self.name = name\n",
    "        self.salary = salary\n",
    "\n",
    "    def display_employee(self):\n",
    "        return f\"Name: {self.name}, Salary: {self.salary}\"\n",
    "\n",
    "class Manager(Employee):\n",
    "    def __init__(self, name, salary, department):\n",
    "        super().__init__(name, salary)\n",
    "        self.department = department\n",
    "\n",
    "    def display_employee(self):\n",
    "        return f\"Name: {self.name}, Salary: {self.salary}, Department: {self.department}\"\n",
    "\n",
    "manager = Manager(\"Ash\", 80000, \"HR\")\n",
    "print(manager.display_employee())\n",
    "\n"
   ]
  },
  {
   "cell_type": "code",
   "execution_count": 41,
   "metadata": {},
   "outputs": [
    {
     "name": "stdout",
     "output_type": "stream",
     "text": [
      "1500\n",
      "1300\n"
     ]
    }
   ],
   "source": [
    "# Define a class BankAccount with methods to deposit and withdraw money, ensuring the balance does not go negative.\n",
    "\n",
    "class BankAccount:\n",
    "    def __init__(self, owner, balance=0):\n",
    "        self.owner = owner\n",
    "        self.balance = balance\n",
    "\n",
    "    def deposit(self, amount):\n",
    "        self.balance += amount\n",
    "\n",
    "    def withdraw(self, amount):\n",
    "        if amount > self.balance:\n",
    "            return \"Insufficient funds\"\n",
    "        else:\n",
    "            self.balance -= amount\n",
    "\n",
    "account = BankAccount(\"John Doe\", 1000)\n",
    "account.deposit(500)\n",
    "print(account.balance)\n",
    "account.withdraw(200)\n",
    "print(account.balance)\n"
   ]
  },
  {
   "cell_type": "code",
   "execution_count": 42,
   "metadata": {},
   "outputs": [
    {
     "name": "stdout",
     "output_type": "stream",
     "text": [
      "['The Great Gatsby', '1984']\n"
     ]
    }
   ],
   "source": [
    "# Define a class Library that maintains a list of books and provides methods to add a book and list all books.\n",
    "\n",
    "class Library:\n",
    "    def __init__(self):\n",
    "        self.books = []\n",
    "\n",
    "    def add_book(self, book):\n",
    "        self.books.append(book)\n",
    "\n",
    "    def list_books(self):\n",
    "        return self.books\n",
    "\n",
    "library = Library()\n",
    "library.add_book(\"The Great Gatsby\")\n",
    "library.add_book(\"1984\")\n",
    "print(library.list_books())\n"
   ]
  },
  {
   "cell_type": "code",
   "execution_count": 43,
   "metadata": {},
   "outputs": [
    {
     "name": "stdout",
     "output_type": "stream",
     "text": [
      "4 + 6i\n"
     ]
    }
   ],
   "source": [
    "# Sunder Functions\n",
    "\n",
    "# Define a class ComplexNumber with special methods for addition and string representation.\n",
    "\n",
    "class ComplexNumber:\n",
    "    def __init__(self, real, imag):\n",
    "        self.real = real\n",
    "        self.imag = imag\n",
    "\n",
    "    def __add__(self, other):\n",
    "        return ComplexNumber(self.real + other.real, self.imag + other.imag)\n",
    "\n",
    "    def __str__(self):\n",
    "        return f\"{self.real} + {self.imag}i\"\n",
    "\n",
    "c1 = ComplexNumber(1, 2)\n",
    "c2 = ComplexNumber(3, 4)\n",
    "print(c1 + c2)\n",
    "\n"
   ]
  },
  {
   "cell_type": "code",
   "execution_count": 44,
   "metadata": {},
   "outputs": [
    {
     "name": "stdout",
     "output_type": "stream",
     "text": [
      "Vector(6, 9)\n"
     ]
    }
   ],
   "source": [
    "#  Define a class ComplexNumber with special methods for addition and string representation.\n",
    "\n",
    "class Vector:\n",
    "    def __init__(self, x, y):\n",
    "        self.x = x\n",
    "        self.y = y\n",
    "\n",
    "    def __mul__(self, scalar):\n",
    "        return Vector(self.x * scalar, self.y * scalar)\n",
    "\n",
    "    def __repr__(self):\n",
    "        return f\"Vector({self.x}, {self.y})\"\n",
    "\n",
    "v = Vector(2, 3)\n",
    "print(v * 3)\n"
   ]
  },
  {
   "cell_type": "code",
   "execution_count": 45,
   "metadata": {},
   "outputs": [
    {
     "name": "stdout",
     "output_type": "stream",
     "text": [
      "1\n",
      "2\n"
     ]
    }
   ],
   "source": [
    "# Define a class Counter that allows an instance to be called as a function, incrementing and returning a count each time.\n",
    "\n",
    "class Counter:\n",
    "    def __init__(self):\n",
    "        self.count = 0\n",
    "\n",
    "    def __call__(self):\n",
    "        self.count += 1\n",
    "        return self.count\n",
    "\n",
    "counter = Counter()\n",
    "print(counter())\n",
    "print(counter())\n",
    "\n"
   ]
  },
  {
   "cell_type": "code",
   "execution_count": 46,
   "metadata": {},
   "outputs": [
    {
     "name": "stdout",
     "output_type": "stream",
     "text": [
      "True\n"
     ]
    }
   ],
   "source": [
    "# Define a class Book with a special method for equality comparison based on title and author.\n",
    "\n",
    "class Book:\n",
    "    def __init__(self, title, author):\n",
    "        self.title = title\n",
    "        self.author = author\n",
    "\n",
    "    def __eq__(self, other):\n",
    "        return self.title == other.title and self.author == other.author\n",
    "\n",
    "book1 = Book(\"1984\", \"George Orwell\")\n",
    "book2 = Book(\"1984\", \"George Orwell\")\n",
    "print(book1 == book2)\n",
    "\n"
   ]
  },
  {
   "cell_type": "code",
   "execution_count": 47,
   "metadata": {},
   "outputs": [
    {
     "name": "stdout",
     "output_type": "stream",
     "text": [
      "True\n"
     ]
    }
   ],
   "source": [
    "# Define a class Box with a special method for less-than comparison based on volume\n",
    "\n",
    "class Box:\n",
    "    def __init__(self, length, width, height):\n",
    "        self.length = length\n",
    "        self.width = width\n",
    "        self.height = height\n",
    "\n",
    "    def __lt__(self, other):\n",
    "        return self.length * self.width * self.height < other.length * other.width * other.height\n",
    "\n",
    "box1 = Box(2, 3, 4)\n",
    "box2 = Box(3, 3, 3)\n",
    "print(box1 < box2)\n",
    "\n"
   ]
  },
  {
   "cell_type": "code",
   "execution_count": 48,
   "metadata": {},
   "outputs": [
    {
     "name": "stdout",
     "output_type": "stream",
     "text": [
      "['Bob', 'Dave', 'Alice', 'Charlie']\n"
     ]
    }
   ],
   "source": [
    "# Lambda Function\n",
    "\n",
    "#  Use a lambda function to generate a list of squares of numbers from 0 to 9.\n",
    "\n",
    "names = [\"Alice\", \"Bob\", \"Charlie\", \"Dave\"]\n",
    "sorted_names = sorted(names, key=lambda x: len(x))\n",
    "print(sorted_names)\n",
    "\n"
   ]
  },
  {
   "cell_type": "code",
   "execution_count": 49,
   "metadata": {},
   "outputs": [
    {
     "name": "stdout",
     "output_type": "stream",
     "text": [
      "['Bob', 'Dave', 'Alice', 'Charlie']\n"
     ]
    }
   ],
   "source": [
    "# Use a lambda function to sort a list of names by their length.\n",
    "\n",
    "names = [\"Alice\", \"Bob\", \"Charlie\", \"Dave\"]\n",
    "sorted_names = sorted(names, key=lambda x: len(x))\n",
    "print(sorted_names)\n"
   ]
  },
  {
   "cell_type": "code",
   "execution_count": 51,
   "metadata": {},
   "outputs": [
    {
     "name": "stdout",
     "output_type": "stream",
     "text": [
      "[2, 4, 6, 8, 10]\n"
     ]
    }
   ],
   "source": [
    "# Use a lambda function to filter out even numbers from a list of numbers from 1 to 10.\n",
    "\n",
    "numbers = [1, 2, 3, 4, 5, 6, 7, 8, 9, 10]\n",
    "even_numbers = list(filter(lambda x: x % 2 == 0, numbers))\n",
    "print(even_numbers)\n",
    "\n"
   ]
  },
  {
   "cell_type": "code",
   "execution_count": 52,
   "metadata": {},
   "outputs": [
    {
     "name": "stdout",
     "output_type": "stream",
     "text": [
      "{'apple': 1, 'banana': 2, 'cherry': 3}\n"
     ]
    }
   ],
   "source": [
    "#  Use a lambda function to convert a list of tuples into a dictionary with the second element as the key and the first element as the value.\n",
    "\n",
    "products = [(1, 'apple'), (2, 'banana'), (3, 'cherry')]\n",
    "products_dict = dict(map(lambda x: (x[1], x[0]), products))\n",
    "print(products_dict)\n"
   ]
  },
  {
   "cell_type": "code",
   "execution_count": 53,
   "metadata": {},
   "outputs": [
    {
     "name": "stdout",
     "output_type": "stream",
     "text": [
      "120\n"
     ]
    }
   ],
   "source": [
    "# Use a lambda function with reduce to calculate the product of a list of numbers.\n",
    "\n",
    "from functools import reduce\n",
    "numbers = [1, 2, 3, 4, 5]\n",
    "product = reduce(lambda x, y: x * y, numbers)\n",
    "print(product)\n",
    "\n"
   ]
  },
  {
   "cell_type": "code",
   "execution_count": 64,
   "metadata": {},
   "outputs": [
    {
     "name": "stdout",
     "output_type": "stream",
     "text": [
      "[(7, 1), (3, 2), (1, 5), (4, 8)]\n"
     ]
    }
   ],
   "source": [
    "# IN-LINE FUNCTIONS\n",
    "\n",
    "# Sorting a list of tuples by a specific element\n",
    "\n",
    "data = [(1, 5), (3, 2), (7, 1), (4, 8)]\n",
    "sorted_data = sorted(data, key=lambda x: x[1])\n",
    "print(sorted_data)\n"
   ]
  },
  {
   "cell_type": "code",
   "execution_count": 65,
   "metadata": {},
   "outputs": [
    {
     "name": "stdout",
     "output_type": "stream",
     "text": [
      "[7, 10, 8]\n"
     ]
    }
   ],
   "source": [
    "# Filtering a list of numbers based on a condition\n",
    "\n",
    "numbers = [1, 5, 2, 7, 4, 10, 8]\n",
    "threshold = 5\n",
    "filtered_numbers = list(filter(lambda x: x > threshold, numbers))\n",
    "print(filtered_numbers)\n"
   ]
  },
  {
   "cell_type": "code",
   "execution_count": 66,
   "metadata": {},
   "outputs": [
    {
     "name": "stdout",
     "output_type": "stream",
     "text": [
      "[1, 4, 9, 16, 25]\n"
     ]
    }
   ],
   "source": [
    "# Mapping a transformation to elements in a list\n",
    "\n",
    "numbers = [1, 2, 3, 4, 5]\n",
    "squared_numbers = list(map(lambda x: x**2, numbers))\n",
    "print(squared_numbers)"
   ]
  },
  {
   "cell_type": "code",
   "execution_count": 67,
   "metadata": {},
   "outputs": [
    {
     "name": "stdout",
     "output_type": "stream",
     "text": [
      "120\n"
     ]
    }
   ],
   "source": [
    "# Computing a cumulative operation on a list\n",
    "\n",
    "from functools import reduce\n",
    "numbers = [1, 2, 3, 4, 5]\n",
    "product = reduce(lambda x, y: x * y, numbers)\n",
    "print(product)"
   ]
  },
  {
   "cell_type": "code",
   "execution_count": 68,
   "metadata": {},
   "outputs": [
    {
     "name": "stdout",
     "output_type": "stream",
     "text": [
      "{'a': [('a', 1), ('a', 3)], 'b': [('b', 2), ('b', 4)]}\n"
     ]
    }
   ],
   "source": [
    "# Grouping elements from a list based on a key\n",
    "\n",
    "from itertools import groupby\n",
    "\n",
    "data = [('a', 1), ('b', 2), ('a', 3), ('b', 4)]\n",
    "data.sort(key=lambda x: x[0])  # Sorting by the first element of each tuple\n",
    "grouped_data = {key: list(group) for key, group in groupby(data, lambda x: x[0])}\n",
    "print(grouped_data)"
   ]
  }
 ],
 "metadata": {
  "kernelspec": {
   "display_name": "Python 3",
   "language": "python",
   "name": "python3"
  },
  "language_info": {
   "codemirror_mode": {
    "name": "ipython",
    "version": 3
   },
   "file_extension": ".py",
   "mimetype": "text/x-python",
   "name": "python",
   "nbconvert_exporter": "python",
   "pygments_lexer": "ipython3",
   "version": "3.12.4"
  }
 },
 "nbformat": 4,
 "nbformat_minor": 2
}
